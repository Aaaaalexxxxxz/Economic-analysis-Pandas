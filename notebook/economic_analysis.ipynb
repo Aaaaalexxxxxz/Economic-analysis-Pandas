{
 "cells": [
  {
   "cell_type": "code",
   "execution_count": 11,
   "metadata": {},
   "outputs": [],
   "source": [
    "!pip install fredapi > /dev/null"
   ]
  },
  {
   "cell_type": "code",
   "execution_count": 13,
   "metadata": {},
   "outputs": [],
   "source": [
    "import pandas as pd\n",
    "import numpy as np\n",
    "import matplotlib.pyplot as plt\n",
    "import plotly.express as px\n",
    "from dotenv import load_dotenv\n",
    "import os\n",
    "load_dotenv()\n",
    "plt.style.use('fivethirtyeight')\n",
    "pd.set_option('display.max_columns', 500) # maximum number of columns to display\n",
    "color_pal = plt.rcParams['axes.prop_cycle'].by_key()['color'] # color of plots\n",
    "\n",
    "fred_api_key = os.getenv('FRED_API_KEY')\n",
    "\n",
    "from fredapi import Fred\n",
    "\n",
    "fred = Fred(api_key=fred_api_key)"
   ]
  }
 ],
 "metadata": {
  "kernelspec": {
   "display_name": ".venv",
   "language": "python",
   "name": "python3"
  },
  "language_info": {
   "codemirror_mode": {
    "name": "ipython",
    "version": 3
   },
   "file_extension": ".py",
   "mimetype": "text/x-python",
   "name": "python",
   "nbconvert_exporter": "python",
   "pygments_lexer": "ipython3",
   "version": "3.13.7"
  }
 },
 "nbformat": 4,
 "nbformat_minor": 2
}
